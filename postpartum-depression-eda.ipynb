{
 "cells": [
  {
   "cell_type": "code",
   "execution_count": 3,
   "id": "95611903",
   "metadata": {
    "_cell_guid": "b1076dfc-b9ad-4769-8c92-a6c4dae69d19",
    "_uuid": "8f2839f25d086af736a60e9eeb907d3b93b6e0e5",
    "papermill": {
     "duration": 0.028993,
     "end_time": "2023-03-13T17:24:40.968378",
     "exception": false,
     "start_time": "2023-03-13T17:24:40.939385",
     "status": "completed"
    },
    "tags": []
   },
   "outputs": [],
   "source": [
    "import pandas as pd\n",
    "import matplotlib.ticker as mtick\n",
    "from matplotlib.ticker import PercentFormatter\n"
   ]
  },
  {
   "cell_type": "code",
   "execution_count": 4,
   "id": "e07b0400",
   "metadata": {
    "papermill": {
     "duration": 0.061799,
     "end_time": "2023-03-13T17:24:41.036546",
     "exception": false,
     "start_time": "2023-03-13T17:24:40.974747",
     "status": "completed"
    },
    "tags": []
   },
   "outputs": [
    {
     "data": {
      "text/html": [
       "<div>\n",
       "<style scoped>\n",
       "    .dataframe tbody tr th:only-of-type {\n",
       "        vertical-align: middle;\n",
       "    }\n",
       "\n",
       "    .dataframe tbody tr th {\n",
       "        vertical-align: top;\n",
       "    }\n",
       "\n",
       "    .dataframe thead th {\n",
       "        text-align: right;\n",
       "    }\n",
       "</style>\n",
       "<table border=\"1\" class=\"dataframe\">\n",
       "  <thead>\n",
       "    <tr style=\"text-align: right;\">\n",
       "      <th></th>\n",
       "      <th>Timestamp</th>\n",
       "      <th>Age</th>\n",
       "      <th>Feeling sad or Tearful</th>\n",
       "      <th>Irritable towards baby &amp; partner</th>\n",
       "      <th>Trouble sleeping at night</th>\n",
       "      <th>Problems concentrating or making decision</th>\n",
       "      <th>Overeating or loss of appetite</th>\n",
       "      <th>Feeling anxious</th>\n",
       "      <th>Feeling of guilt</th>\n",
       "      <th>Problems of bonding with baby</th>\n",
       "      <th>Suicide attempt</th>\n",
       "    </tr>\n",
       "  </thead>\n",
       "  <tbody>\n",
       "    <tr>\n",
       "      <th>0</th>\n",
       "      <td>6/14/2022 20:02</td>\n",
       "      <td>35-40</td>\n",
       "      <td>Yes</td>\n",
       "      <td>Yes</td>\n",
       "      <td>Two or more days a week</td>\n",
       "      <td>Yes</td>\n",
       "      <td>Yes</td>\n",
       "      <td>Yes</td>\n",
       "      <td>No</td>\n",
       "      <td>Yes</td>\n",
       "      <td>Yes</td>\n",
       "    </tr>\n",
       "    <tr>\n",
       "      <th>1</th>\n",
       "      <td>6/14/2022 20:03</td>\n",
       "      <td>40-45</td>\n",
       "      <td>Yes</td>\n",
       "      <td>No</td>\n",
       "      <td>No</td>\n",
       "      <td>Yes</td>\n",
       "      <td>Yes</td>\n",
       "      <td>No</td>\n",
       "      <td>Yes</td>\n",
       "      <td>Yes</td>\n",
       "      <td>No</td>\n",
       "    </tr>\n",
       "    <tr>\n",
       "      <th>2</th>\n",
       "      <td>6/14/2022 20:04</td>\n",
       "      <td>35-40</td>\n",
       "      <td>Yes</td>\n",
       "      <td>No</td>\n",
       "      <td>Yes</td>\n",
       "      <td>Yes</td>\n",
       "      <td>Yes</td>\n",
       "      <td>Yes</td>\n",
       "      <td>No</td>\n",
       "      <td>Sometimes</td>\n",
       "      <td>No</td>\n",
       "    </tr>\n",
       "    <tr>\n",
       "      <th>3</th>\n",
       "      <td>6/14/2022 20:05</td>\n",
       "      <td>35-40</td>\n",
       "      <td>Yes</td>\n",
       "      <td>Yes</td>\n",
       "      <td>Yes</td>\n",
       "      <td>Yes</td>\n",
       "      <td>No</td>\n",
       "      <td>Yes</td>\n",
       "      <td>Maybe</td>\n",
       "      <td>No</td>\n",
       "      <td>No</td>\n",
       "    </tr>\n",
       "    <tr>\n",
       "      <th>4</th>\n",
       "      <td>6/14/2022 20:06</td>\n",
       "      <td>40-45</td>\n",
       "      <td>Yes</td>\n",
       "      <td>No</td>\n",
       "      <td>Two or more days a week</td>\n",
       "      <td>Yes</td>\n",
       "      <td>No</td>\n",
       "      <td>Yes</td>\n",
       "      <td>No</td>\n",
       "      <td>Yes</td>\n",
       "      <td>No</td>\n",
       "    </tr>\n",
       "  </tbody>\n",
       "</table>\n",
       "</div>"
      ],
      "text/plain": [
       "         Timestamp    Age Feeling sad or Tearful  \\\n",
       "0  6/14/2022 20:02  35-40                    Yes   \n",
       "1  6/14/2022 20:03  40-45                    Yes   \n",
       "2  6/14/2022 20:04  35-40                    Yes   \n",
       "3  6/14/2022 20:05  35-40                    Yes   \n",
       "4  6/14/2022 20:06  40-45                    Yes   \n",
       "\n",
       "  Irritable towards baby & partner Trouble sleeping at night  \\\n",
       "0                              Yes   Two or more days a week   \n",
       "1                               No                        No   \n",
       "2                               No                       Yes   \n",
       "3                              Yes                       Yes   \n",
       "4                               No   Two or more days a week   \n",
       "\n",
       "  Problems concentrating or making decision Overeating or loss of appetite  \\\n",
       "0                                       Yes                            Yes   \n",
       "1                                       Yes                            Yes   \n",
       "2                                       Yes                            Yes   \n",
       "3                                       Yes                             No   \n",
       "4                                       Yes                             No   \n",
       "\n",
       "  Feeling anxious Feeling of guilt Problems of bonding with baby  \\\n",
       "0             Yes               No                           Yes   \n",
       "1              No              Yes                           Yes   \n",
       "2             Yes               No                     Sometimes   \n",
       "3             Yes            Maybe                            No   \n",
       "4             Yes               No                           Yes   \n",
       "\n",
       "  Suicide attempt  \n",
       "0             Yes  \n",
       "1              No  \n",
       "2              No  \n",
       "3              No  \n",
       "4              No  "
      ]
     },
     "execution_count": 4,
     "metadata": {},
     "output_type": "execute_result"
    }
   ],
   "source": [
    "df = pd.read_csv(\"post_natal_data.csv\")\n",
    "df.head()"
   ]
  },
  {
   "cell_type": "markdown",
   "id": "52e135d1",
   "metadata": {
    "papermill": {
     "duration": 0.00612,
     "end_time": "2023-03-13T17:24:41.049270",
     "exception": false,
     "start_time": "2023-03-13T17:24:41.043150",
     "status": "completed"
    },
    "tags": []
   },
   "source": [
    "**DATA PREPROCESSING**"
   ]
  },
  {
   "cell_type": "code",
   "execution_count": 5,
   "id": "06e8c1bc",
   "metadata": {
    "papermill": {
     "duration": 0.04021,
     "end_time": "2023-03-13T17:24:41.095980",
     "exception": false,
     "start_time": "2023-03-13T17:24:41.055770",
     "status": "completed"
    },
    "tags": []
   },
   "outputs": [
    {
     "name": "stdout",
     "output_type": "stream",
     "text": [
      "<class 'pandas.core.frame.DataFrame'>\n",
      "RangeIndex: 1503 entries, 0 to 1502\n",
      "Data columns (total 11 columns):\n",
      " #   Column                                     Non-Null Count  Dtype \n",
      "---  ------                                     --------------  ----- \n",
      " 0   Timestamp                                  1503 non-null   object\n",
      " 1   Age                                        1503 non-null   object\n",
      " 2   Feeling sad or Tearful                     1503 non-null   object\n",
      " 3   Irritable towards baby & partner           1497 non-null   object\n",
      " 4   Trouble sleeping at night                  1503 non-null   object\n",
      " 5   Problems concentrating or making decision  1491 non-null   object\n",
      " 6   Overeating or loss of appetite             1503 non-null   object\n",
      " 7   Feeling anxious                            1503 non-null   object\n",
      " 8   Feeling of guilt                           1494 non-null   object\n",
      " 9   Problems of bonding with baby              1503 non-null   object\n",
      " 10  Suicide attempt                            1503 non-null   object\n",
      "dtypes: object(11)\n",
      "memory usage: 129.3+ KB\n"
     ]
    }
   ],
   "source": [
    "df.info()"
   ]
  },
  {
   "cell_type": "code",
   "execution_count": 6,
   "id": "2bee52b9",
   "metadata": {
    "papermill": {
     "duration": 0.031836,
     "end_time": "2023-03-13T17:24:41.134384",
     "exception": false,
     "start_time": "2023-03-13T17:24:41.102548",
     "status": "completed"
    },
    "tags": []
   },
   "outputs": [],
   "source": [
    "# Convert the values of \"Timestamp\" column into datetime datatype\n",
    "\n",
    "df[\"Timestamp\"] = pd.to_datetime(df[\"Timestamp\"])"
   ]
  },
  {
   "cell_type": "code",
   "execution_count": 7,
   "id": "3c119789",
   "metadata": {
    "papermill": {
     "duration": 0.019837,
     "end_time": "2023-03-13T17:24:41.160762",
     "exception": false,
     "start_time": "2023-03-13T17:24:41.140925",
     "status": "completed"
    },
    "tags": []
   },
   "outputs": [
    {
     "data": {
      "text/plain": [
       "40-45    364\n",
       "35-40    349\n",
       "30-35    338\n",
       "45-50    271\n",
       "25-30    181\n",
       "Name: Age, dtype: int64"
      ]
     },
     "execution_count": 7,
     "metadata": {},
     "output_type": "execute_result"
    }
   ],
   "source": [
    "# Counting unique values in each age group\n",
    "df[\"Age\"].value_counts()"
   ]
  },
  {
   "cell_type": "code",
   "execution_count": 8,
   "id": "e5871032",
   "metadata": {
    "papermill": {
     "duration": 0.018914,
     "end_time": "2023-03-13T17:24:41.186616",
     "exception": false,
     "start_time": "2023-03-13T17:24:41.167702",
     "status": "completed"
    },
    "tags": []
   },
   "outputs": [],
   "source": [
    "# Convert\"Age\" into categories\n",
    "df[\"Age\"] = df[\"Age\"].astype(\"category\")"
   ]
  },
  {
   "cell_type": "code",
   "execution_count": 9,
   "id": "e4e8319b",
   "metadata": {
    "papermill": {
     "duration": 0.023424,
     "end_time": "2023-03-13T17:24:41.216675",
     "exception": false,
     "start_time": "2023-03-13T17:24:41.193251",
     "status": "completed"
    },
    "tags": []
   },
   "outputs": [
    {
     "data": {
      "text/plain": [
       "Timestamp                                     0\n",
       "Age                                           0\n",
       "Feeling sad or Tearful                        0\n",
       "Irritable towards baby & partner              6\n",
       "Trouble sleeping at night                     0\n",
       "Problems concentrating or making decision    12\n",
       "Overeating or loss of appetite                0\n",
       "Feeling anxious                               0\n",
       "Feeling of guilt                              9\n",
       "Problems of bonding with baby                 0\n",
       "Suicide attempt                               0\n",
       "dtype: int64"
      ]
     },
     "execution_count": 9,
     "metadata": {},
     "output_type": "execute_result"
    }
   ],
   "source": [
    "# Check the amount of null values in the dataset\n",
    "df.isna().sum()"
   ]
  },
  {
   "cell_type": "code",
   "execution_count": 10,
   "id": "a02059a3",
   "metadata": {
    "papermill": {
     "duration": 0.036964,
     "end_time": "2023-03-13T17:24:41.260376",
     "exception": false,
     "start_time": "2023-03-13T17:24:41.223412",
     "status": "completed"
    },
    "tags": []
   },
   "outputs": [
    {
     "data": {
      "text/html": [
       "<div>\n",
       "<style scoped>\n",
       "    .dataframe tbody tr th:only-of-type {\n",
       "        vertical-align: middle;\n",
       "    }\n",
       "\n",
       "    .dataframe tbody tr th {\n",
       "        vertical-align: top;\n",
       "    }\n",
       "\n",
       "    .dataframe thead th {\n",
       "        text-align: right;\n",
       "    }\n",
       "</style>\n",
       "<table border=\"1\" class=\"dataframe\">\n",
       "  <thead>\n",
       "    <tr style=\"text-align: right;\">\n",
       "      <th></th>\n",
       "      <th>Timestamp</th>\n",
       "      <th>Age</th>\n",
       "      <th>Feeling sad or Tearful</th>\n",
       "      <th>Irritable towards baby &amp; partner</th>\n",
       "      <th>Trouble sleeping at night</th>\n",
       "      <th>Problems concentrating or making decision</th>\n",
       "      <th>Overeating or loss of appetite</th>\n",
       "      <th>Feeling anxious</th>\n",
       "      <th>Feeling of guilt</th>\n",
       "      <th>Problems of bonding with baby</th>\n",
       "      <th>Suicide attempt</th>\n",
       "    </tr>\n",
       "  </thead>\n",
       "  <tbody>\n",
       "    <tr>\n",
       "      <th>260</th>\n",
       "      <td>2022-06-15 22:24:00</td>\n",
       "      <td>35-40</td>\n",
       "      <td>No</td>\n",
       "      <td>Yes</td>\n",
       "      <td>Yes</td>\n",
       "      <td>NaN</td>\n",
       "      <td>No</td>\n",
       "      <td>Yes</td>\n",
       "      <td>No</td>\n",
       "      <td>Yes</td>\n",
       "      <td>Yes</td>\n",
       "    </tr>\n",
       "    <tr>\n",
       "      <th>261</th>\n",
       "      <td>2022-06-15 22:24:00</td>\n",
       "      <td>40-45</td>\n",
       "      <td>Yes</td>\n",
       "      <td>Yes</td>\n",
       "      <td>Two or more days a week</td>\n",
       "      <td>NaN</td>\n",
       "      <td>Not at all</td>\n",
       "      <td>Yes</td>\n",
       "      <td>NaN</td>\n",
       "      <td>Yes</td>\n",
       "      <td>Yes</td>\n",
       "    </tr>\n",
       "    <tr>\n",
       "      <th>262</th>\n",
       "      <td>2022-06-15 22:24:00</td>\n",
       "      <td>35-40</td>\n",
       "      <td>Yes</td>\n",
       "      <td>NaN</td>\n",
       "      <td>Yes</td>\n",
       "      <td>NaN</td>\n",
       "      <td>Yes</td>\n",
       "      <td>Yes</td>\n",
       "      <td>NaN</td>\n",
       "      <td>No</td>\n",
       "      <td>No</td>\n",
       "    </tr>\n",
       "    <tr>\n",
       "      <th>263</th>\n",
       "      <td>2022-06-15 22:24:00</td>\n",
       "      <td>40-45</td>\n",
       "      <td>Yes</td>\n",
       "      <td>NaN</td>\n",
       "      <td>No</td>\n",
       "      <td>NaN</td>\n",
       "      <td>No</td>\n",
       "      <td>Yes</td>\n",
       "      <td>NaN</td>\n",
       "      <td>Sometimes</td>\n",
       "      <td>No</td>\n",
       "    </tr>\n",
       "    <tr>\n",
       "      <th>721</th>\n",
       "      <td>2022-06-15 22:24:00</td>\n",
       "      <td>35-40</td>\n",
       "      <td>No</td>\n",
       "      <td>Yes</td>\n",
       "      <td>Yes</td>\n",
       "      <td>NaN</td>\n",
       "      <td>No</td>\n",
       "      <td>Yes</td>\n",
       "      <td>No</td>\n",
       "      <td>Yes</td>\n",
       "      <td>Yes</td>\n",
       "    </tr>\n",
       "    <tr>\n",
       "      <th>722</th>\n",
       "      <td>2022-06-15 22:24:00</td>\n",
       "      <td>40-45</td>\n",
       "      <td>Yes</td>\n",
       "      <td>Yes</td>\n",
       "      <td>Two or more days a week</td>\n",
       "      <td>NaN</td>\n",
       "      <td>Not at all</td>\n",
       "      <td>Yes</td>\n",
       "      <td>NaN</td>\n",
       "      <td>Yes</td>\n",
       "      <td>Yes</td>\n",
       "    </tr>\n",
       "    <tr>\n",
       "      <th>723</th>\n",
       "      <td>2022-06-15 22:24:00</td>\n",
       "      <td>35-40</td>\n",
       "      <td>Yes</td>\n",
       "      <td>NaN</td>\n",
       "      <td>Yes</td>\n",
       "      <td>NaN</td>\n",
       "      <td>Yes</td>\n",
       "      <td>Yes</td>\n",
       "      <td>NaN</td>\n",
       "      <td>No</td>\n",
       "      <td>No</td>\n",
       "    </tr>\n",
       "    <tr>\n",
       "      <th>724</th>\n",
       "      <td>2022-06-15 22:24:00</td>\n",
       "      <td>40-45</td>\n",
       "      <td>Yes</td>\n",
       "      <td>NaN</td>\n",
       "      <td>No</td>\n",
       "      <td>NaN</td>\n",
       "      <td>No</td>\n",
       "      <td>Yes</td>\n",
       "      <td>NaN</td>\n",
       "      <td>Sometimes</td>\n",
       "      <td>No</td>\n",
       "    </tr>\n",
       "    <tr>\n",
       "      <th>1146</th>\n",
       "      <td>2022-06-15 22:24:00</td>\n",
       "      <td>35-40</td>\n",
       "      <td>No</td>\n",
       "      <td>Yes</td>\n",
       "      <td>Yes</td>\n",
       "      <td>NaN</td>\n",
       "      <td>No</td>\n",
       "      <td>Yes</td>\n",
       "      <td>No</td>\n",
       "      <td>Yes</td>\n",
       "      <td>Yes</td>\n",
       "    </tr>\n",
       "    <tr>\n",
       "      <th>1147</th>\n",
       "      <td>2022-06-15 22:24:00</td>\n",
       "      <td>40-45</td>\n",
       "      <td>Yes</td>\n",
       "      <td>Yes</td>\n",
       "      <td>Two or more days a week</td>\n",
       "      <td>NaN</td>\n",
       "      <td>Not at all</td>\n",
       "      <td>Yes</td>\n",
       "      <td>NaN</td>\n",
       "      <td>Yes</td>\n",
       "      <td>Yes</td>\n",
       "    </tr>\n",
       "    <tr>\n",
       "      <th>1148</th>\n",
       "      <td>2022-06-15 22:24:00</td>\n",
       "      <td>35-40</td>\n",
       "      <td>Yes</td>\n",
       "      <td>NaN</td>\n",
       "      <td>Yes</td>\n",
       "      <td>NaN</td>\n",
       "      <td>Yes</td>\n",
       "      <td>Yes</td>\n",
       "      <td>NaN</td>\n",
       "      <td>No</td>\n",
       "      <td>No</td>\n",
       "    </tr>\n",
       "    <tr>\n",
       "      <th>1149</th>\n",
       "      <td>2022-06-15 22:24:00</td>\n",
       "      <td>40-45</td>\n",
       "      <td>Yes</td>\n",
       "      <td>NaN</td>\n",
       "      <td>No</td>\n",
       "      <td>NaN</td>\n",
       "      <td>No</td>\n",
       "      <td>Yes</td>\n",
       "      <td>NaN</td>\n",
       "      <td>Sometimes</td>\n",
       "      <td>No</td>\n",
       "    </tr>\n",
       "  </tbody>\n",
       "</table>\n",
       "</div>"
      ],
      "text/plain": [
       "               Timestamp    Age Feeling sad or Tearful  \\\n",
       "260  2022-06-15 22:24:00  35-40                     No   \n",
       "261  2022-06-15 22:24:00  40-45                    Yes   \n",
       "262  2022-06-15 22:24:00  35-40                    Yes   \n",
       "263  2022-06-15 22:24:00  40-45                    Yes   \n",
       "721  2022-06-15 22:24:00  35-40                     No   \n",
       "722  2022-06-15 22:24:00  40-45                    Yes   \n",
       "723  2022-06-15 22:24:00  35-40                    Yes   \n",
       "724  2022-06-15 22:24:00  40-45                    Yes   \n",
       "1146 2022-06-15 22:24:00  35-40                     No   \n",
       "1147 2022-06-15 22:24:00  40-45                    Yes   \n",
       "1148 2022-06-15 22:24:00  35-40                    Yes   \n",
       "1149 2022-06-15 22:24:00  40-45                    Yes   \n",
       "\n",
       "     Irritable towards baby & partner Trouble sleeping at night  \\\n",
       "260                               Yes                       Yes   \n",
       "261                               Yes   Two or more days a week   \n",
       "262                               NaN                       Yes   \n",
       "263                               NaN                        No   \n",
       "721                               Yes                       Yes   \n",
       "722                               Yes   Two or more days a week   \n",
       "723                               NaN                       Yes   \n",
       "724                               NaN                        No   \n",
       "1146                              Yes                       Yes   \n",
       "1147                              Yes   Two or more days a week   \n",
       "1148                              NaN                       Yes   \n",
       "1149                              NaN                        No   \n",
       "\n",
       "     Problems concentrating or making decision Overeating or loss of appetite  \\\n",
       "260                                        NaN                             No   \n",
       "261                                        NaN                     Not at all   \n",
       "262                                        NaN                            Yes   \n",
       "263                                        NaN                             No   \n",
       "721                                        NaN                             No   \n",
       "722                                        NaN                     Not at all   \n",
       "723                                        NaN                            Yes   \n",
       "724                                        NaN                             No   \n",
       "1146                                       NaN                             No   \n",
       "1147                                       NaN                     Not at all   \n",
       "1148                                       NaN                            Yes   \n",
       "1149                                       NaN                             No   \n",
       "\n",
       "     Feeling anxious Feeling of guilt Problems of bonding with baby  \\\n",
       "260              Yes               No                           Yes   \n",
       "261              Yes              NaN                           Yes   \n",
       "262              Yes              NaN                            No   \n",
       "263              Yes              NaN                     Sometimes   \n",
       "721              Yes               No                           Yes   \n",
       "722              Yes              NaN                           Yes   \n",
       "723              Yes              NaN                            No   \n",
       "724              Yes              NaN                     Sometimes   \n",
       "1146             Yes               No                           Yes   \n",
       "1147             Yes              NaN                           Yes   \n",
       "1148             Yes              NaN                            No   \n",
       "1149             Yes              NaN                     Sometimes   \n",
       "\n",
       "     Suicide attempt  \n",
       "260              Yes  \n",
       "261              Yes  \n",
       "262               No  \n",
       "263               No  \n",
       "721              Yes  \n",
       "722              Yes  \n",
       "723               No  \n",
       "724               No  \n",
       "1146             Yes  \n",
       "1147             Yes  \n",
       "1148              No  \n",
       "1149              No  "
      ]
     },
     "execution_count": 10,
     "metadata": {},
     "output_type": "execute_result"
    }
   ],
   "source": [
    "#  Since there are just a few missing values, I'm filtering out to see them \n",
    "# so that I can make an informed decision about how to handle them\n",
    "\n",
    "df[df.isna().any(axis = 1)]"
   ]
  },
  {
   "cell_type": "code",
   "execution_count": 11,
   "id": "e69e0aef",
   "metadata": {
    "papermill": {
     "duration": 0.030075,
     "end_time": "2023-03-13T17:24:41.297618",
     "exception": false,
     "start_time": "2023-03-13T17:24:41.267543",
     "status": "completed"
    },
    "tags": []
   },
   "outputs": [],
   "source": [
    "# I\"ve decided not to drop the rows with missing values because although the missing values are\n",
    "# insignificant for my analysis, however other items in the affected rows provide \n",
    "# valueable insight into my analysis.\n",
    "\n",
    "# Im replacing all the missing values with \"Not interested to say\", which is one of the option\n",
    "# in the \"Suicide attempt\" column\n",
    "\n",
    "df.select_dtypes(include=['object']).fillna(value='Not interested to say', inplace=True)"
   ]
  },
  {
   "cell_type": "code",
   "execution_count": 12,
   "id": "b2e620bd",
   "metadata": {
    "papermill": {
     "duration": 0.029152,
     "end_time": "2023-03-13T17:24:41.333971",
     "exception": false,
     "start_time": "2023-03-13T17:24:41.304819",
     "status": "completed"
    },
    "tags": []
   },
   "outputs": [
    {
     "data": {
      "text/html": [
       "<div>\n",
       "<style scoped>\n",
       "    .dataframe tbody tr th:only-of-type {\n",
       "        vertical-align: middle;\n",
       "    }\n",
       "\n",
       "    .dataframe tbody tr th {\n",
       "        vertical-align: top;\n",
       "    }\n",
       "\n",
       "    .dataframe thead th {\n",
       "        text-align: right;\n",
       "    }\n",
       "</style>\n",
       "<table border=\"1\" class=\"dataframe\">\n",
       "  <thead>\n",
       "    <tr style=\"text-align: right;\">\n",
       "      <th></th>\n",
       "      <th>Timestamp</th>\n",
       "      <th>Age</th>\n",
       "      <th>Feeling sad or Tearful</th>\n",
       "      <th>Irritable towards baby &amp; partner</th>\n",
       "      <th>Trouble sleeping at night</th>\n",
       "      <th>Problems concentrating or making decision</th>\n",
       "      <th>Overeating or loss of appetite</th>\n",
       "      <th>Feeling anxious</th>\n",
       "      <th>Feeling of guilt</th>\n",
       "      <th>Problems of bonding with baby</th>\n",
       "      <th>Suicide attempt</th>\n",
       "    </tr>\n",
       "  </thead>\n",
       "  <tbody>\n",
       "    <tr>\n",
       "      <th>261</th>\n",
       "      <td>2022-06-15 22:24:00</td>\n",
       "      <td>40-45</td>\n",
       "      <td>Yes</td>\n",
       "      <td>Yes</td>\n",
       "      <td>Two or more days a week</td>\n",
       "      <td>NaN</td>\n",
       "      <td>Not at all</td>\n",
       "      <td>Yes</td>\n",
       "      <td>NaN</td>\n",
       "      <td>Yes</td>\n",
       "      <td>Yes</td>\n",
       "    </tr>\n",
       "    <tr>\n",
       "      <th>262</th>\n",
       "      <td>2022-06-15 22:24:00</td>\n",
       "      <td>35-40</td>\n",
       "      <td>Yes</td>\n",
       "      <td>NaN</td>\n",
       "      <td>Yes</td>\n",
       "      <td>NaN</td>\n",
       "      <td>Yes</td>\n",
       "      <td>Yes</td>\n",
       "      <td>NaN</td>\n",
       "      <td>No</td>\n",
       "      <td>No</td>\n",
       "    </tr>\n",
       "    <tr>\n",
       "      <th>263</th>\n",
       "      <td>2022-06-15 22:24:00</td>\n",
       "      <td>40-45</td>\n",
       "      <td>Yes</td>\n",
       "      <td>NaN</td>\n",
       "      <td>No</td>\n",
       "      <td>NaN</td>\n",
       "      <td>No</td>\n",
       "      <td>Yes</td>\n",
       "      <td>NaN</td>\n",
       "      <td>Sometimes</td>\n",
       "      <td>No</td>\n",
       "    </tr>\n",
       "  </tbody>\n",
       "</table>\n",
       "</div>"
      ],
      "text/plain": [
       "              Timestamp    Age Feeling sad or Tearful  \\\n",
       "261 2022-06-15 22:24:00  40-45                    Yes   \n",
       "262 2022-06-15 22:24:00  35-40                    Yes   \n",
       "263 2022-06-15 22:24:00  40-45                    Yes   \n",
       "\n",
       "    Irritable towards baby & partner Trouble sleeping at night  \\\n",
       "261                              Yes   Two or more days a week   \n",
       "262                              NaN                       Yes   \n",
       "263                              NaN                        No   \n",
       "\n",
       "    Problems concentrating or making decision Overeating or loss of appetite  \\\n",
       "261                                       NaN                     Not at all   \n",
       "262                                       NaN                            Yes   \n",
       "263                                       NaN                             No   \n",
       "\n",
       "    Feeling anxious Feeling of guilt Problems of bonding with baby  \\\n",
       "261             Yes              NaN                           Yes   \n",
       "262             Yes              NaN                            No   \n",
       "263             Yes              NaN                     Sometimes   \n",
       "\n",
       "    Suicide attempt  \n",
       "261             Yes  \n",
       "262              No  \n",
       "263              No  "
      ]
     },
     "execution_count": 12,
     "metadata": {},
     "output_type": "execute_result"
    }
   ],
   "source": [
    "df.iloc[261: 264]"
   ]
  },
  {
   "cell_type": "code",
   "execution_count": null,
   "id": "66420bb7",
   "metadata": {
    "papermill": {
     "duration": 0.007363,
     "end_time": "2023-03-13T17:24:41.349678",
     "exception": false,
     "start_time": "2023-03-13T17:24:41.342315",
     "status": "completed"
    },
    "tags": []
   },
   "outputs": [],
   "source": []
  },
  {
   "cell_type": "markdown",
   "id": "e7ba05be",
   "metadata": {
    "papermill": {
     "duration": 0.007042,
     "end_time": "2023-03-13T17:24:41.364115",
     "exception": false,
     "start_time": "2023-03-13T17:24:41.357073",
     "status": "completed"
    },
    "tags": []
   },
   "source": [
    "**EXPLORATORY DATA ANALYSIS**"
   ]
  },
  {
   "cell_type": "markdown",
   "id": "898b0d3e",
   "metadata": {
    "papermill": {
     "duration": 0.007067,
     "end_time": "2023-03-13T17:24:41.378667",
     "exception": false,
     "start_time": "2023-03-13T17:24:41.371600",
     "status": "completed"
    },
    "tags": []
   },
   "source": [
    "**Percentage of suicide attempt amongst the participants**"
   ]
  },
  {
   "cell_type": "code",
   "execution_count": 13,
   "id": "c3befc77",
   "metadata": {
    "papermill": {
     "duration": 0.023164,
     "end_time": "2023-03-13T17:24:41.409799",
     "exception": false,
     "start_time": "2023-03-13T17:24:41.386635",
     "status": "completed"
    },
    "tags": []
   },
   "outputs": [
    {
     "data": {
      "text/plain": [
       "Attempted Suicide          0.31\n",
       "Did Not Attempt Suicide    0.69\n",
       "dtype: float64"
      ]
     },
     "execution_count": 13,
     "metadata": {},
     "output_type": "execute_result"
    }
   ],
   "source": [
    "pct_suicide_attempt = round(df[\"Suicide attempt\"].value_counts()[\"Yes\"]/len(df), 2)\n",
    "pct_suicide_attempt\n",
    "\n",
    "response_suicide = pd.Series({\"Attempted Suicide\": pct_suicide_attempt,\n",
    "                    \"Did Not Attempt Suicide\": 1 - pct_suicide_attempt})\n",
    "response_suicide"
   ]
  },
  {
   "cell_type": "code",
   "execution_count": 14,
   "id": "c06f2c51",
   "metadata": {
    "papermill": {
     "duration": 0.247475,
     "end_time": "2023-03-13T17:24:41.664904",
     "exception": false,
     "start_time": "2023-03-13T17:24:41.417429",
     "status": "completed"
    },
    "tags": []
   },
   "outputs": [
    {
     "data": {
      "text/plain": [
       "<AxesSubplot:>"
      ]
     },
     "execution_count": 14,
     "metadata": {},
     "output_type": "execute_result"
    },
    {
     "data": {
      "image/png": "[encoded data removed]",
      "text/plain": [
       "<Figure size 640x480 with 1 Axes>"
      ]
     },
     "metadata": {},
     "output_type": "display_data"
    }
   ],
   "source": [
    "response_suicide.plot.pie(label = \"\", autopct = \"%.2f%%\")"
   ]
  },
  {
   "cell_type": "markdown",
   "id": "5f60e6d8",
   "metadata": {
    "papermill": {
     "duration": 0.019509,
     "end_time": "2023-03-13T17:24:41.704743",
     "exception": false,
     "start_time": "2023-03-13T17:24:41.685234",
     "status": "completed"
    },
    "tags": []
   },
   "source": [
    "**Percentage of suicide attempts by age groups**"
   ]
  },
  {
   "cell_type": "code",
   "execution_count": 15,
   "id": "5cc0972a",
   "metadata": {
    "papermill": {
     "duration": 0.020693,
     "end_time": "2023-03-13T17:24:41.733708",
     "exception": false,
     "start_time": "2023-03-13T17:24:41.713015",
     "status": "completed"
    },
    "tags": []
   },
   "outputs": [],
   "source": [
    "# The frequency of suicide attempts by age group\n",
    "\n",
    "age_suicide_attempt = df.loc[df[\"Suicide attempt\"] == \"Yes\", \"Age\" ].value_counts()\n",
    "\n",
    "\n",
    "# Number of participants in each age group\n",
    "nums_age = df[\"Age\"].value_counts()"
   ]
  },
  {
   "cell_type": "code",
   "execution_count": 16,
   "id": "46ff69e1",
   "metadata": {
    "papermill": {
     "duration": 0.020949,
     "end_time": "2023-03-13T17:24:41.762626",
     "exception": false,
     "start_time": "2023-03-13T17:24:41.741677",
     "status": "completed"
    },
    "tags": []
   },
   "outputs": [],
   "source": [
    "pct_suicide_attempt_age = age_suicide_attempt.divide(nums_age)"
   ]
  },
  {
   "cell_type": "code",
   "execution_count": 17,
   "id": "5eddf43f",
   "metadata": {
    "papermill": {
     "duration": 0.180708,
     "end_time": "2023-03-13T17:24:41.951963",
     "exception": false,
     "start_time": "2023-03-13T17:24:41.771255",
     "status": "completed"
    },
    "tags": []
   },
   "outputs": [
    {
     "data": {
      "text/plain": [
       "<AxesSubplot:title={'center':'Percentage of suicide attempts by age groups'}>"
      ]
     },
     "execution_count": 17,
     "metadata": {},
     "output_type": "execute_result"
    },
    {
     "data": {
      "image/png": "[encoded data removed]",
      "text/plain": [
       "<Figure size 640x480 with 1 Axes>"
      ]
     },
     "metadata": {},
     "output_type": "display_data"
    }
   ],
   "source": [
    "pct_suicide_attempt_age.plot.pie(label = \"\", title = \"Percentage of suicide attempts by age groups\", autopct = \"%.2f%%\")"
   ]
  },
  {
   "cell_type": "markdown",
   "id": "c73bf059",
   "metadata": {
    "papermill": {
     "duration": 0.016425,
     "end_time": "2023-03-13T17:24:41.991228",
     "exception": false,
     "start_time": "2023-03-13T17:24:41.974803",
     "status": "completed"
    },
    "tags": []
   },
   "source": [
    "**Proporton of \"Yes\" responses to the specific symptoms in each age group**\n"
   ]
  },
  {
   "cell_type": "code",
   "execution_count": 18,
   "id": "d26aeb70",
   "metadata": {
    "papermill": {
     "duration": 0.027464,
     "end_time": "2023-03-13T17:24:42.027554",
     "exception": false,
     "start_time": "2023-03-13T17:24:42.000090",
     "status": "completed"
    },
    "tags": []
   },
   "outputs": [],
   "source": [
    "# Retrive the number of \"Yes\" by age groups\n",
    "response_yes = df.groupby(\"Age\")[['Feeling sad or Tearful',\n",
    "       'Irritable towards baby & partner', 'Trouble sleeping at night',\n",
    "       'Problems concentrating or making decision',\n",
    "       'Overeating or loss of appetite', 'Feeling anxious', 'Feeling of guilt',\n",
    "       'Problems of bonding with baby', 'Suicide attempt']].apply(lambda x: (x == \"Yes\").sum())   "
   ]
  },
  {
   "cell_type": "code",
   "execution_count": 19,
   "id": "93a88ac8",
   "metadata": {
    "papermill": {
     "duration": 0.022159,
     "end_time": "2023-03-13T17:24:42.058479",
     "exception": false,
     "start_time": "2023-03-13T17:24:42.036320",
     "status": "completed"
    },
    "tags": []
   },
   "outputs": [],
   "source": [
    "# Balance the result according to the number of participants in each age group\n",
    "# to get a more accurate reflect\n",
    "\n",
    "def divide_cols(x):\n",
    "    group = x.name\n",
    "    divisor = nums_age[group]\n",
    "    return x / divisor  \n",
    "\n",
    "\n",
    "pct_response_yes = response_yes.groupby(\"Age\").apply(divide_cols)\n"
   ]
  },
  {
   "cell_type": "code",
   "execution_count": 20,
   "id": "c1274379",
   "metadata": {
    "papermill": {
     "duration": 0.031735,
     "end_time": "2023-03-13T17:24:42.099217",
     "exception": false,
     "start_time": "2023-03-13T17:24:42.067482",
     "status": "completed"
    },
    "tags": []
   },
   "outputs": [
    {
     "data": {
      "text/html": [
       "<div>\n",
       "<style scoped>\n",
       "    .dataframe tbody tr th:only-of-type {\n",
       "        vertical-align: middle;\n",
       "    }\n",
       "\n",
       "    .dataframe tbody tr th {\n",
       "        vertical-align: top;\n",
       "    }\n",
       "\n",
       "    .dataframe thead th {\n",
       "        text-align: right;\n",
       "    }\n",
       "</style>\n",
       "<table border=\"1\" class=\"dataframe\">\n",
       "  <thead>\n",
       "    <tr style=\"text-align: right;\">\n",
       "      <th></th>\n",
       "      <th>Feeling sad or Tearful</th>\n",
       "      <th>Irritable towards baby &amp; partner</th>\n",
       "      <th>Trouble sleeping at night</th>\n",
       "      <th>Problems concentrating or making decision</th>\n",
       "      <th>Overeating or loss of appetite</th>\n",
       "      <th>Feeling anxious</th>\n",
       "      <th>Feeling of guilt</th>\n",
       "      <th>Problems of bonding with baby</th>\n",
       "      <th>Suicide attempt</th>\n",
       "    </tr>\n",
       "    <tr>\n",
       "      <th>Age</th>\n",
       "      <th></th>\n",
       "      <th></th>\n",
       "      <th></th>\n",
       "      <th></th>\n",
       "      <th></th>\n",
       "      <th></th>\n",
       "      <th></th>\n",
       "      <th></th>\n",
       "      <th></th>\n",
       "    </tr>\n",
       "  </thead>\n",
       "  <tbody>\n",
       "    <tr>\n",
       "      <th>25-30</th>\n",
       "      <td>31.49%</td>\n",
       "      <td>30.39%</td>\n",
       "      <td>39.78%</td>\n",
       "      <td>27.07%</td>\n",
       "      <td>30.94%</td>\n",
       "      <td>57.46%</td>\n",
       "      <td>32.60%</td>\n",
       "      <td>23.20%</td>\n",
       "      <td>33.70%</td>\n",
       "    </tr>\n",
       "    <tr>\n",
       "      <th>30-35</th>\n",
       "      <td>35.80%</td>\n",
       "      <td>37.28%</td>\n",
       "      <td>25.15%</td>\n",
       "      <td>22.19%</td>\n",
       "      <td>30.47%</td>\n",
       "      <td>65.98%</td>\n",
       "      <td>19.82%</td>\n",
       "      <td>26.92%</td>\n",
       "      <td>29.29%</td>\n",
       "    </tr>\n",
       "    <tr>\n",
       "      <th>35-40</th>\n",
       "      <td>40.69%</td>\n",
       "      <td>38.40%</td>\n",
       "      <td>38.97%</td>\n",
       "      <td>34.10%</td>\n",
       "      <td>25.21%</td>\n",
       "      <td>66.19%</td>\n",
       "      <td>30.09%</td>\n",
       "      <td>26.07%</td>\n",
       "      <td>34.67%</td>\n",
       "    </tr>\n",
       "    <tr>\n",
       "      <th>40-45</th>\n",
       "      <td>36.54%</td>\n",
       "      <td>41.76%</td>\n",
       "      <td>24.45%</td>\n",
       "      <td>31.32%</td>\n",
       "      <td>16.76%</td>\n",
       "      <td>62.36%</td>\n",
       "      <td>18.96%</td>\n",
       "      <td>29.67%</td>\n",
       "      <td>32.42%</td>\n",
       "    </tr>\n",
       "    <tr>\n",
       "      <th>45-50</th>\n",
       "      <td>30.63%</td>\n",
       "      <td>32.47%</td>\n",
       "      <td>23.25%</td>\n",
       "      <td>28.78%</td>\n",
       "      <td>12.92%</td>\n",
       "      <td>71.96%</td>\n",
       "      <td>15.50%</td>\n",
       "      <td>26.57%</td>\n",
       "      <td>22.14%</td>\n",
       "    </tr>\n",
       "  </tbody>\n",
       "</table>\n",
       "</div>"
      ],
      "text/plain": [
       "      Feeling sad or Tearful Irritable towards baby & partner  \\\n",
       "Age                                                             \n",
       "25-30                 31.49%                           30.39%   \n",
       "30-35                 35.80%                           37.28%   \n",
       "35-40                 40.69%                           38.40%   \n",
       "40-45                 36.54%                           41.76%   \n",
       "45-50                 30.63%                           32.47%   \n",
       "\n",
       "      Trouble sleeping at night Problems concentrating or making decision  \\\n",
       "Age                                                                         \n",
       "25-30                    39.78%                                    27.07%   \n",
       "30-35                    25.15%                                    22.19%   \n",
       "35-40                    38.97%                                    34.10%   \n",
       "40-45                    24.45%                                    31.32%   \n",
       "45-50                    23.25%                                    28.78%   \n",
       "\n",
       "      Overeating or loss of appetite Feeling anxious Feeling of guilt  \\\n",
       "Age                                                                     \n",
       "25-30                         30.94%          57.46%           32.60%   \n",
       "30-35                         30.47%          65.98%           19.82%   \n",
       "35-40                         25.21%          66.19%           30.09%   \n",
       "40-45                         16.76%          62.36%           18.96%   \n",
       "45-50                         12.92%          71.96%           15.50%   \n",
       "\n",
       "      Problems of bonding with baby Suicide attempt  \n",
       "Age                                                  \n",
       "25-30                        23.20%          33.70%  \n",
       "30-35                        26.92%          29.29%  \n",
       "35-40                        26.07%          34.67%  \n",
       "40-45                        29.67%          32.42%  \n",
       "45-50                        26.57%          22.14%  "
      ]
     },
     "execution_count": 20,
     "metadata": {},
     "output_type": "execute_result"
    }
   ],
   "source": [
    "pct_response_yes.iloc[0:9].applymap(lambda x: \"{:.2%}\".format(x))"
   ]
  },
  {
   "cell_type": "code",
   "execution_count": 21,
   "id": "0e04ea98",
   "metadata": {
    "papermill": {
     "duration": 0.29796,
     "end_time": "2023-03-13T17:24:42.406430",
     "exception": false,
     "start_time": "2023-03-13T17:24:42.108470",
     "status": "completed"
    },
    "tags": []
   },
   "outputs": [
    {
     "data": {
      "image/png": "[encoded data removed]",
      "text/plain": [
       "<Figure size 640x480 with 1 Axes>"
      ]
     },
     "metadata": {},
     "output_type": "display_data"
    }
   ],
   "source": [
    "pct_mean = pct_response_yes.mean()*100\n",
    "\n",
    "ax = pct_mean.plot(kind = \"barh\")\n",
    "ax.xaxis.set_major_formatter(mtick.PercentFormatter())"
   ]
  }
 ],
 "metadata": {
  "kernelspec": {
   "display_name": "Python 3 (ipykernel)",
   "language": "python",
   "name": "python3"
  },
  "language_info": {
   "codemirror_mode": {
    "name": "ipython",
    "version": 3
   },
   "file_extension": ".py",
   "mimetype": "text/x-python",
   "name": "python",
   "nbconvert_exporter": "python",
   "pygments_lexer": "ipython3",
   "version": "3.9.13"
  },
  "papermill": {
   "default_parameters": {},
   "duration": 12.831358,
   "end_time": "2023-03-13T17:24:43.139702",
   "environment_variables": {},
   "exception": null,
   "input_path": "__notebook__.ipynb",
   "output_path": "__notebook__.ipynb",
   "parameters": {},
   "start_time": "2023-03-13T17:24:30.308344",
   "version": "2.4.0"
  }
 },
 "nbformat": 4,
 "nbformat_minor": 5
}
